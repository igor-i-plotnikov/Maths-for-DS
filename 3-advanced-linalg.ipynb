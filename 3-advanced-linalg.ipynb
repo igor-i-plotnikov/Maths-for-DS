{
 "cells": [
  {
   "cell_type": "markdown",
   "metadata": {
    "id": "pqJ3l8E1PXFU"
   },
   "source": [
    "# Домашнее задание \"Продвинутая линейная алгебра\"."
   ]
  },
  {
   "cell_type": "code",
   "execution_count": 1,
   "metadata": {},
   "outputs": [],
   "source": [
    "import numpy as np\n",
    "from numpy import linalg"
   ]
  },
  {
   "cell_type": "markdown",
   "metadata": {
    "id": "xV6YXX6VPjiM"
   },
   "source": [
    "### Уровень 0:"
   ]
  },
  {
   "cell_type": "markdown",
   "metadata": {
    "id": "sdJhzn3YPCZG"
   },
   "source": [
    "Придумайте матрицы, которые обладают следующими свойствами:\n",
    "\n",
    "a) Диагональная, ортогональная, но не единичная(!)\n",
    "\n",
    "b) Верхнетреугольная, ортогональная\n",
    "\n",
    "c) Нижнетреугольная, ортогональная\n",
    "\n",
    "d) Матрица, у которой определитель = 1, и все элементы не равны 0\n",
    "\n",
    "P.S. Во всех пунктах ответом должна быть ненулевая матрица размерности не менее 2!\n"
   ]
  },
  {
   "cell_type": "code",
   "execution_count": 20,
   "metadata": {},
   "outputs": [
    {
     "data": {
      "text/plain": [
       "array([[1, 0],\n",
       "       [0, 1]])"
      ]
     },
     "execution_count": 20,
     "metadata": {},
     "output_type": "execute_result"
    }
   ],
   "source": [
    "A = np.array([[1, 0], \n",
    "             [0, -1]])\n",
    "# провера ортогональности\n",
    "AT = A.transpose()\n",
    "A.dot(AT)"
   ]
  },
  {
   "cell_type": "code",
   "execution_count": 13,
   "metadata": {},
   "outputs": [],
   "source": [
    "B = np.array([[1, 2, 3], \n",
    "             [0, 2, 3], \n",
    "             [0, 0, 3]])"
   ]
  },
  {
   "cell_type": "code",
   "execution_count": 14,
   "metadata": {},
   "outputs": [],
   "source": [
    "C = np.array([[1, 0, 0], \n",
    "             [1, 2, 0], \n",
    "             [1, 2, 3]])"
   ]
  },
  {
   "cell_type": "code",
   "execution_count": 22,
   "metadata": {},
   "outputs": [
    {
     "data": {
      "text/plain": [
       "0.9999999999999987"
      ]
     },
     "execution_count": 22,
     "metadata": {},
     "output_type": "execute_result"
    }
   ],
   "source": [
    "D = np.array([[5, 7], \n",
    "             [2, 3]])\n",
    "# провера детерминанта\n",
    "linalg.det(D)"
   ]
  },
  {
   "cell_type": "markdown",
   "metadata": {
    "id": "DoobuSBZQl6d"
   },
   "source": [
    "Найдите собственные значения и собственные вектора матриц:\n",
    "\n",
    "```\n",
    "m = np.array([[2, 2],\n",
    "              [1, 3]])\n",
    "print(m)\n",
    "```"
   ]
  },
  {
   "cell_type": "code",
   "execution_count": 24,
   "metadata": {},
   "outputs": [
    {
     "name": "stdout",
     "output_type": "stream",
     "text": [
      "[[2 2]\n",
      " [1 3]]\n"
     ]
    }
   ],
   "source": [
    "m = np.array([[2, 2],\n",
    "              [1, 3]])\n",
    "print(m)"
   ]
  },
  {
   "cell_type": "code",
   "execution_count": 25,
   "metadata": {},
   "outputs": [
    {
     "data": {
      "text/plain": [
       "(array([1., 4.]),\n",
       " array([[-0.89442719, -0.70710678],\n",
       "        [ 0.4472136 , -0.70710678]]))"
      ]
     },
     "execution_count": 25,
     "metadata": {},
     "output_type": "execute_result"
    }
   ],
   "source": [
    "linalg.eig(m)"
   ]
  },
  {
   "cell_type": "markdown",
   "metadata": {
    "id": "1IymnLDrPCXH"
   },
   "source": [
    "### Уровень 1:"
   ]
  },
  {
   "cell_type": "markdown",
   "metadata": {
    "id": "iJPawZAEPpJO"
   },
   "source": [
    "\n",
    "Найдите спектральное разложение матрицы:\n",
    "\n",
    "```\n",
    "m = np.array([[1, 2],\n",
    "              [2,3]])\n",
    "print(m)\n",
    "```\n"
   ]
  },
  {
   "cell_type": "code",
   "execution_count": 26,
   "metadata": {},
   "outputs": [
    {
     "name": "stdout",
     "output_type": "stream",
     "text": [
      "[[1 2]\n",
      " [2 3]]\n"
     ]
    }
   ],
   "source": [
    "m = np.array([[1, 2],\n",
    "              [2, 3]])\n",
    "print(m)"
   ]
  },
  {
   "cell_type": "code",
   "execution_count": 28,
   "metadata": {},
   "outputs": [],
   "source": [
    "v, w = np.linalg.eigh(m)"
   ]
  },
  {
   "cell_type": "code",
   "execution_count": 29,
   "metadata": {},
   "outputs": [],
   "source": [
    "D = np.diag(v)"
   ]
  },
  {
   "cell_type": "code",
   "execution_count": 30,
   "metadata": {},
   "outputs": [],
   "source": [
    "S = w.T"
   ]
  },
  {
   "cell_type": "code",
   "execution_count": 32,
   "metadata": {},
   "outputs": [
    {
     "data": {
      "text/plain": [
       "array([[1., 2.],\n",
       "       [2., 3.]])"
      ]
     },
     "execution_count": 32,
     "metadata": {},
     "output_type": "execute_result"
    }
   ],
   "source": [
    "S.T @ D @ S"
   ]
  },
  {
   "cell_type": "markdown",
   "metadata": {
    "id": "V9fcRZltQoRu"
   },
   "source": [
    "Постройте зависимость качества восстановления рукописных цифр (MNIST) в зависимости от различного количества компонент PCA. В качестве метрики различия предлагаю использовать MSE.*\n",
    "\n",
    "\n"
   ]
  },
  {
   "cell_type": "markdown",
   "metadata": {
    "id": "pH2vOABpSMSQ"
   },
   "source": [
    "\n",
    "--------------------------------------------------------------------------------"
   ]
  },
  {
   "cell_type": "markdown",
   "metadata": {
    "id": "d1qAqmOMSMUd"
   },
   "source": [
    "У PCA есть метод transform и inverse_transofrm. Первый - снижает размерность, второй - восстанавливает оригинальные данные с потерей информации.\n",
    "Надо посчитать насколько в среднем точно восстанавливается оригинальная картинка в зависимости от количества компонент в PCA."
   ]
  },
  {
   "cell_type": "markdown",
   "metadata": {
    "id": "THD2Cd1ySPOQ"
   },
   "source": []
  },
  {
   "cell_type": "markdown",
   "metadata": {
    "id": "tosUSbt0QqYG"
   },
   "source": [
    "В качестве справки можно использовать:\n",
    "\n",
    "https://scikit-learn.org/stable/modules/generated/sklearn.decomposition.PCA.html - Документация по PCA\n",
    "\n",
    "https://scikit-learn.org/stable/modules/generated/sklearn.metrics.mean_squared_error.html - Документация по MSE\n",
    "\n",
    "Картинки цифр можно взять отсюда - https://scikit-learn.org/stable/modules/generated/sklearn.datasets.load_digits.html\n"
   ]
  },
  {
   "cell_type": "code",
   "execution_count": 2,
   "metadata": {},
   "outputs": [],
   "source": [
    "import matplotlib.pyplot as plt \n",
    "from sklearn.datasets import load_digits\n",
    "from sklearn.preprocessing import scale\n",
    "from sklearn.decomposition import PCA\n",
    "from sklearn.metrics import mean_squared_error"
   ]
  },
  {
   "cell_type": "code",
   "execution_count": 3,
   "metadata": {},
   "outputs": [
    {
     "data": {
      "text/plain": [
       "<Figure size 432x288 with 0 Axes>"
      ]
     },
     "metadata": {},
     "output_type": "display_data"
    },
    {
     "data": {
      "image/png": "[encoded data removed]",
      "text/plain": [
       "<Figure size 288x288 with 1 Axes>"
      ]
     },
     "metadata": {
      "needs_background": "light"
     },
     "output_type": "display_data"
    }
   ],
   "source": [
    "digits = load_digits()\n",
    "plt.gray() \n",
    "plt.matshow(digits.images[0]) \n",
    "plt.show() "
   ]
  },
  {
   "cell_type": "code",
   "execution_count": 4,
   "metadata": {},
   "outputs": [
    {
     "name": "stdout",
     "output_type": "stream",
     "text": [
      "dict_keys(['data', 'target', 'frame', 'feature_names', 'target_names', 'images', 'DESCR'])\n"
     ]
    }
   ],
   "source": [
    "print(digits.keys())"
   ]
  },
  {
   "cell_type": "code",
   "execution_count": 42,
   "metadata": {},
   "outputs": [],
   "source": [
    "X = digits.data \n",
    "y = digits.target\n",
    "X_scale = scale(X,axis=0)\n",
    "pcs = [] \n",
    "mss = [] \n",
    "for n in range(1,10):\n",
    "    pcs.append(n) \n",
    "    pca = PCA(n_components=n)\n",
    "    recon = pca.inverse_transform(pca.fit_transform(X_scale))\n",
    "    mse = mean_squared_error(X_scale[0], recon[0], squared=True)\n",
    "    mss.append(mse)    "
   ]
  },
  {
   "cell_type": "code",
   "execution_count": 43,
   "metadata": {},
   "outputs": [
    {
     "data": {
      "image/png": "[encoded data removed]",
      "text/plain": [
       "<Figure size 432x288 with 1 Axes>"
      ]
     },
     "metadata": {
      "needs_background": "light"
     },
     "output_type": "display_data"
    }
   ],
   "source": [
    "plt.plot(pcs, mss, 'r') \n",
    "plt.xlabel('number of PCs',fontsize = 13) \n",
    "plt.ylabel('mean_squared_error',fontsize = 13) \n",
    "\n",
    "plt.xticks(pcs,fontsize=13) \n",
    "plt.yticks(fontsize=13) \n",
    "plt.show() "
   ]
  },
  {
   "cell_type": "code",
   "execution_count": null,
   "metadata": {},
   "outputs": [],
   "source": []
  }
 ],
 "metadata": {
  "colab": {
   "collapsed_sections": [],
   "name": "HW_3",
   "provenance": []
  },
  "kernelspec": {
   "display_name": "Python 3",
   "language": "python",
   "name": "python3"
  },
  "language_info": {
   "codemirror_mode": {
    "name": "ipython",
    "version": 3
   },
   "file_extension": ".py",
   "mimetype": "text/x-python",
   "name": "python",
   "nbconvert_exporter": "python",
   "pygments_lexer": "ipython3",
   "version": "3.8.0"
  }
 },
 "nbformat": 4,
 "nbformat_minor": 1
}
